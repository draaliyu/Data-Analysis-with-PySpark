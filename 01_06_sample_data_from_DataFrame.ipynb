{
 "cells": [
  {
   "cell_type": "code",
   "execution_count": 1,
   "id": "342e38eb-c737-4e36-87f6-bbcaa54e5531",
   "metadata": {},
   "outputs": [],
   "source": [
    "from pyspark.sql import SparkSession"
   ]
  },
  {
   "cell_type": "code",
   "execution_count": 2,
   "id": "ec17f805-8965-4f00-a3d6-e715adbe1f5c",
   "metadata": {},
   "outputs": [
    {
     "name": "stderr",
     "output_type": "stream",
     "text": [
      "24/05/05 22:12:44 WARN Utils: Your hostname, aliyu-XPS-15-9550 resolves to a loopback address: 127.0.1.1; using 192.168.0.47 instead (on interface wlp2s0)\n",
      "24/05/05 22:12:44 WARN Utils: Set SPARK_LOCAL_IP if you need to bind to another address\n",
      "Setting default log level to \"WARN\".\n",
      "To adjust logging level use sc.setLogLevel(newLevel). For SparkR, use setLogLevel(newLevel).\n",
      "24/05/05 22:12:45 WARN NativeCodeLoader: Unable to load native-hadoop library for your platform... using builtin-java classes where applicable\n"
     ]
    }
   ],
   "source": [
    "spark = SparkSession.builder.getOrCreate()"
   ]
  },
  {
   "cell_type": "code",
   "execution_count": 3,
   "id": "4499d267-965a-46df-b787-b466cbedb52c",
   "metadata": {},
   "outputs": [],
   "source": [
    "data_path = './Data/'\n",
    "file_path = data_path + 'location_temp.csv'\n",
    "df1 = spark.read.format('csv').option('header','true').load(file_path)"
   ]
  },
  {
   "cell_type": "code",
   "execution_count": 4,
   "id": "4efccf6f-91fe-4e44-819b-c07a309564ae",
   "metadata": {},
   "outputs": [
    {
     "name": "stdout",
     "output_type": "stream",
     "text": [
      "+-------------------+-----------+------------+\n",
      "|         event_date|location_id|temp_celcius|\n",
      "+-------------------+-----------+------------+\n",
      "|03/04/2019 19:48:06|       loc0|          29|\n",
      "|03/04/2019 19:53:06|       loc0|          27|\n",
      "|03/04/2019 19:58:06|       loc0|          28|\n",
      "|03/04/2019 20:03:06|       loc0|          30|\n",
      "|03/04/2019 20:08:06|       loc0|          27|\n",
      "|03/04/2019 20:13:06|       loc0|          27|\n",
      "|03/04/2019 20:18:06|       loc0|          27|\n",
      "|03/04/2019 20:23:06|       loc0|          29|\n",
      "|03/04/2019 20:28:06|       loc0|          32|\n",
      "|03/04/2019 20:33:06|       loc0|          35|\n",
      "+-------------------+-----------+------------+\n",
      "only showing top 10 rows\n",
      "\n"
     ]
    }
   ],
   "source": [
    "df1.show(10)"
   ]
  },
  {
   "cell_type": "code",
   "execution_count": 6,
   "id": "7619ff00-d0d6-42d5-b906-a8311fa79248",
   "metadata": {},
   "outputs": [
    {
     "name": "stderr",
     "output_type": "stream",
     "text": [
      "                                                                                \r"
     ]
    },
    {
     "data": {
      "text/plain": [
       "500000"
      ]
     },
     "execution_count": 6,
     "metadata": {},
     "output_type": "execute_result"
    }
   ],
   "source": [
    "df1.count()"
   ]
  },
  {
   "cell_type": "code",
   "execution_count": 7,
   "id": "dcaf454a-f06e-4fb6-b017-b5b73abec8b1",
   "metadata": {},
   "outputs": [],
   "source": [
    "df1_s1 = df1.sample(fraction=0.1, withReplacement=False)"
   ]
  },
  {
   "cell_type": "code",
   "execution_count": 8,
   "id": "8c25a5fc-a18c-413d-ace1-c6a23575a2bb",
   "metadata": {},
   "outputs": [
    {
     "data": {
      "text/plain": [
       "50131"
      ]
     },
     "execution_count": 8,
     "metadata": {},
     "output_type": "execute_result"
    }
   ],
   "source": [
    "df1_s1.count()"
   ]
  },
  {
   "cell_type": "code",
   "execution_count": 10,
   "id": "77c118bd-efad-4583-b0b6-cba35df1a4b5",
   "metadata": {},
   "outputs": [
    {
     "name": "stderr",
     "output_type": "stream",
     "text": [
      "[Stage 8:==============>                                            (1 + 3) / 4]\r"
     ]
    },
    {
     "name": "stdout",
     "output_type": "stream",
     "text": [
      "+-----------+------------------+\n",
      "|location_id| avg(temp_celcius)|\n",
      "+-----------+------------------+\n",
      "|      loc22| 28.07894736842105|\n",
      "|      loc31|  25.0561797752809|\n",
      "|      loc82|27.032967032967033|\n",
      "|      loc90|23.580246913580247|\n",
      "|     loc118|              24.0|\n",
      "|      loc39| 24.82300884955752|\n",
      "|      loc75|23.011494252873565|\n",
      "|     loc122|              32.5|\n",
      "|      loc24| 31.16867469879518|\n",
      "|      loc30|30.094117647058823|\n",
      "|     loc105| 25.77319587628866|\n",
      "|      loc96|          27.90625|\n",
      "|     loc102|30.582417582417584|\n",
      "|      loc18| 30.45945945945946|\n",
      "|      loc27|31.244444444444444|\n",
      "|     loc143|            28.125|\n",
      "|      loc43| 32.30107526881721|\n",
      "|     loc123|23.173076923076923|\n",
      "|      loc15| 32.10204081632653|\n",
      "|      loc48| 30.04950495049505|\n",
      "+-----------+------------------+\n",
      "only showing top 20 rows\n",
      "\n"
     ]
    },
    {
     "name": "stderr",
     "output_type": "stream",
     "text": [
      "                                                                                \r"
     ]
    }
   ],
   "source": [
    "df1_s1.groupBy('location_id').agg({'temp_celcius':'mean'}).show()"
   ]
  },
  {
   "cell_type": "code",
   "execution_count": 11,
   "id": "9e58a578-4157-4724-bc72-304707f81b7e",
   "metadata": {},
   "outputs": [
    {
     "name": "stdout",
     "output_type": "stream",
     "text": [
      "+-----------+------------------+\n",
      "|location_id| avg(temp_celcius)|\n",
      "+-----------+------------------+\n",
      "|       loc0|29.055555555555557|\n",
      "|       loc1|27.990909090909092|\n",
      "|      loc10|24.976744186046513|\n",
      "|     loc100|27.168316831683168|\n",
      "|     loc101|25.515151515151516|\n",
      "|     loc102|30.582417582417584|\n",
      "|     loc103|25.647058823529413|\n",
      "|     loc104|26.217821782178216|\n",
      "|     loc105| 25.77319587628866|\n",
      "|     loc106|27.582417582417584|\n",
      "+-----------+------------------+\n",
      "only showing top 10 rows\n",
      "\n"
     ]
    }
   ],
   "source": [
    "df1_s1.groupBy('location_id').agg({'temp_celcius':'mean'}).orderBy('location_id').show(10)"
   ]
  },
  {
   "cell_type": "code",
   "execution_count": 12,
   "id": "059b3072-3660-4717-b3e6-356e2940e5ea",
   "metadata": {},
   "outputs": [
    {
     "name": "stdout",
     "output_type": "stream",
     "text": [
      "+-----------+-----------------+\n",
      "|location_id|avg(temp_celcius)|\n",
      "+-----------+-----------------+\n",
      "|       loc0|           29.176|\n",
      "|       loc1|           28.246|\n",
      "|      loc10|           25.337|\n",
      "|     loc100|           27.297|\n",
      "|     loc101|           25.317|\n",
      "|     loc102|           30.327|\n",
      "|     loc103|           25.341|\n",
      "|     loc104|           26.204|\n",
      "|     loc105|           26.217|\n",
      "|     loc106|           27.201|\n",
      "+-----------+-----------------+\n",
      "only showing top 10 rows\n",
      "\n"
     ]
    }
   ],
   "source": [
    "df1.groupBy('location_id').agg({'temp_celcius':'mean'}).orderBy('location_id').show(10)"
   ]
  },
  {
   "cell_type": "code",
   "execution_count": null,
   "id": "5f887eed-08a2-4df4-85ae-eb7fa1b0b2db",
   "metadata": {},
   "outputs": [],
   "source": []
  }
 ],
 "metadata": {
  "kernelspec": {
   "display_name": "Python 3 (ipykernel)",
   "language": "python",
   "name": "python3"
  },
  "language_info": {
   "codemirror_mode": {
    "name": "ipython",
    "version": 3
   },
   "file_extension": ".py",
   "mimetype": "text/x-python",
   "name": "python",
   "nbconvert_exporter": "python",
   "pygments_lexer": "ipython3",
   "version": "3.10.12"
  }
 },
 "nbformat": 4,
 "nbformat_minor": 5
}
