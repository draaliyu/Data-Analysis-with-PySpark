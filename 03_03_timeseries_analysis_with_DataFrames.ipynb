{
 "cells": [
  {
   "cell_type": "code",
   "execution_count": 1,
   "id": "c227a927-f5a5-4089-a538-1c413672507b",
   "metadata": {},
   "outputs": [],
   "source": [
    "from pyspark.sql import SparkSession"
   ]
  },
  {
   "cell_type": "code",
   "execution_count": 2,
   "id": "99473df5-b91b-4929-b945-785b26f63521",
   "metadata": {},
   "outputs": [
    {
     "name": "stderr",
     "output_type": "stream",
     "text": [
      "24/05/06 12:40:58 WARN Utils: Your hostname, aliyu-XPS-15-9550 resolves to a loopback address: 127.0.1.1; using 192.168.199.55 instead (on interface wlp2s0)\n",
      "24/05/06 12:40:58 WARN Utils: Set SPARK_LOCAL_IP if you need to bind to another address\n",
      "Setting default log level to \"WARN\".\n",
      "To adjust logging level use sc.setLogLevel(newLevel). For SparkR, use setLogLevel(newLevel).\n",
      "24/05/06 12:40:59 WARN NativeCodeLoader: Unable to load native-hadoop library for your platform... using builtin-java classes where applicable\n",
      "24/05/06 12:41:00 WARN Utils: Service 'SparkUI' could not bind on port 4040. Attempting port 4041.\n",
      "24/05/06 12:41:00 WARN Utils: Service 'SparkUI' could not bind on port 4041. Attempting port 4042.\n",
      "24/05/06 12:41:00 WARN Utils: Service 'SparkUI' could not bind on port 4042. Attempting port 4043.\n",
      "24/05/06 12:41:00 WARN Utils: Service 'SparkUI' could not bind on port 4043. Attempting port 4044.\n",
      "24/05/06 12:41:00 WARN Utils: Service 'SparkUI' could not bind on port 4044. Attempting port 4045.\n",
      "24/05/06 12:41:00 WARN Utils: Service 'SparkUI' could not bind on port 4045. Attempting port 4046.\n",
      "24/05/06 12:41:00 WARN Utils: Service 'SparkUI' could not bind on port 4046. Attempting port 4047.\n"
     ]
    }
   ],
   "source": [
    "spark = SparkSession.builder.getOrCreate()"
   ]
  },
  {
   "cell_type": "code",
   "execution_count": 3,
   "id": "6dd52daf-900b-439b-ab22-c1e0ddac1591",
   "metadata": {},
   "outputs": [],
   "source": [
    "data_path = './Data'"
   ]
  },
  {
   "cell_type": "code",
   "execution_count": 4,
   "id": "bf71f894-24b6-4ff8-8a58-98870ef065d5",
   "metadata": {},
   "outputs": [
    {
     "name": "stderr",
     "output_type": "stream",
     "text": [
      "                                                                                \r"
     ]
    }
   ],
   "source": [
    "json_df2_path = data_path + '/utilization.json'\n",
    "df_util = spark.read.format('json').load(json_df2_path)"
   ]
  },
  {
   "cell_type": "code",
   "execution_count": 5,
   "id": "d95dfe07-7bf4-4408-b74e-3222deb3bec8",
   "metadata": {},
   "outputs": [
    {
     "name": "stdout",
     "output_type": "stream",
     "text": [
      "+---------------+-------------------+-----------+---------+-------------+\n",
      "|cpu_utilization|     event_datetime|free_memory|server_id|session_count|\n",
      "+---------------+-------------------+-----------+---------+-------------+\n",
      "|           0.57|03/05/2019 08:06:14|       0.51|      100|           47|\n",
      "|           0.47|03/05/2019 08:11:14|       0.62|      100|           43|\n",
      "|           0.56|03/05/2019 08:16:14|       0.57|      100|           62|\n",
      "|           0.57|03/05/2019 08:21:14|       0.56|      100|           50|\n",
      "|           0.35|03/05/2019 08:26:14|       0.46|      100|           43|\n",
      "|           0.41|03/05/2019 08:31:14|       0.58|      100|           48|\n",
      "|           0.57|03/05/2019 08:36:14|       0.35|      100|           58|\n",
      "|           0.41|03/05/2019 08:41:14|        0.4|      100|           58|\n",
      "|           0.53|03/05/2019 08:46:14|       0.35|      100|           62|\n",
      "|           0.51|03/05/2019 08:51:14|        0.6|      100|           45|\n",
      "|           0.32|03/05/2019 08:56:14|       0.37|      100|           47|\n",
      "|           0.62|03/05/2019 09:01:14|       0.59|      100|           60|\n",
      "|           0.66|03/05/2019 09:06:14|       0.72|      100|           57|\n",
      "|           0.54|03/05/2019 09:11:14|       0.54|      100|           44|\n",
      "|           0.29|03/05/2019 09:16:14|        0.4|      100|           47|\n",
      "|           0.43|03/05/2019 09:21:14|       0.68|      100|           66|\n",
      "|           0.49|03/05/2019 09:26:14|       0.66|      100|           65|\n",
      "|           0.64|03/05/2019 09:31:14|       0.55|      100|           66|\n",
      "|           0.42|03/05/2019 09:36:14|        0.6|      100|           42|\n",
      "|           0.55|03/05/2019 09:41:14|       0.59|      100|           63|\n",
      "+---------------+-------------------+-----------+---------+-------------+\n",
      "only showing top 20 rows\n",
      "\n"
     ]
    }
   ],
   "source": [
    "df_util.show()"
   ]
  },
  {
   "cell_type": "code",
   "execution_count": 6,
   "id": "9590b084-f3d9-418c-bb4c-c44ef443a6b5",
   "metadata": {},
   "outputs": [],
   "source": [
    "df_util.createOrReplaceTempView('utilization')"
   ]
  },
  {
   "cell_type": "code",
   "execution_count": 7,
   "id": "32ffa31e-4bd4-4424-9b68-316cdb0173af",
   "metadata": {},
   "outputs": [
    {
     "name": "stderr",
     "output_type": "stream",
     "text": [
      "                                                                                \r"
     ]
    },
    {
     "data": {
      "text/plain": [
       "500000"
      ]
     },
     "execution_count": 7,
     "metadata": {},
     "output_type": "execute_result"
    }
   ],
   "source": [
    "df_util.count()"
   ]
  },
  {
   "cell_type": "code",
   "execution_count": 8,
   "id": "83c442d9-196f-4167-9af0-640bfa3a5f24",
   "metadata": {},
   "outputs": [
    {
     "name": "stderr",
     "output_type": "stream",
     "text": [
      "[Stage 5:=======>                                                   (1 + 7) / 8]\r"
     ]
    },
    {
     "name": "stdout",
     "output_type": "stream",
     "text": [
      "+---------+--------------------+--------------------+-----------------------+\n",
      "|server_id|min(cpu_utilization)|max(cpu_utilization)|stddev(cpu_utilization)|\n",
      "+---------+--------------------+--------------------+-----------------------+\n",
      "|      103|                0.56|                0.96|    0.11617507884178278|\n",
      "|      104|                0.51|                0.91|    0.11521679513850511|\n",
      "|      106|                0.22|                0.62|    0.11531539914568226|\n",
      "|      100|                0.27|                0.67|     0.1152264191787964|\n",
      "|      105|                0.29|                0.69|    0.11510721467869486|\n",
      "|      101|                 0.6|                 1.0|    0.11651726263197697|\n",
      "|      102|                0.56|                0.96|    0.11549678751286807|\n",
      "|      112|                0.52|                0.92|    0.11528867845082576|\n",
      "|      113|                0.58|                0.98|    0.11544345150353687|\n",
      "|      110|                0.35|                0.75|    0.11533251724450215|\n",
      "|      107|                0.45|                0.85|    0.11597417369783877|\n",
      "|      111|                0.36|                0.76|    0.11530221569464506|\n",
      "|      108|                0.55|                0.95|    0.11563100171171926|\n",
      "|      109|                0.36|                0.76|    0.11574898623219722|\n",
      "|      119|                0.22|                0.62|    0.11516031929842008|\n",
      "|      116|                 0.3|                 0.7|    0.11506079722349302|\n",
      "|      114|                0.33|                0.73|    0.11510268816097273|\n",
      "|      115|                0.44|                0.84|    0.11569664615014985|\n",
      "|      120|                0.35|                0.75|    0.11586355920838642|\n",
      "|      118|                0.53|                0.93|    0.11474318421515234|\n",
      "+---------+--------------------+--------------------+-----------------------+\n",
      "only showing top 20 rows\n",
      "\n"
     ]
    },
    {
     "name": "stderr",
     "output_type": "stream",
     "text": [
      "                                                                                \r"
     ]
    }
   ],
   "source": [
    "spark.sql('SELECT server_id, min(cpu_utilization), max(cpu_utilization),stddev(cpu_utilization) \\\n",
    "                        FROM utilization \\\n",
    "                        GROUP BY server_id').show()"
   ]
  },
  {
   "cell_type": "code",
   "execution_count": 10,
   "id": "fb99f28b-658c-4d49-bdb7-f84c682d98e8",
   "metadata": {},
   "outputs": [
    {
     "name": "stderr",
     "output_type": "stream",
     "text": [
      "[Stage 8:===================================================>       (7 + 1) / 8]\r"
     ]
    },
    {
     "name": "stdout",
     "output_type": "stream",
     "text": [
      "+-------------------+---------+---------------+------------------+\n",
      "|     event_datetime|server_id|cpu_utilization|   avg_server_util|\n",
      "+-------------------+---------+---------------+------------------+\n",
      "|03/05/2019 08:06:31|      110|           0.68|0.5537749999999892|\n",
      "|03/05/2019 08:11:31|      110|           0.58|0.5537749999999892|\n",
      "|03/05/2019 08:16:31|      110|           0.55|0.5537749999999892|\n",
      "|03/05/2019 08:21:31|      110|           0.63|0.5537749999999892|\n",
      "|03/05/2019 08:26:31|      110|           0.63|0.5537749999999892|\n",
      "|03/05/2019 08:31:31|      110|           0.71|0.5537749999999892|\n",
      "|03/05/2019 08:36:31|      110|           0.67|0.5537749999999892|\n",
      "|03/05/2019 08:41:31|      110|           0.55|0.5537749999999892|\n",
      "|03/05/2019 08:46:31|      110|           0.37|0.5537749999999892|\n",
      "|03/05/2019 08:51:31|      110|            0.7|0.5537749999999892|\n",
      "|03/05/2019 08:56:31|      110|           0.67|0.5537749999999892|\n",
      "|03/05/2019 09:01:31|      110|           0.56|0.5537749999999892|\n",
      "|03/05/2019 09:06:31|      110|           0.37|0.5537749999999892|\n",
      "|03/05/2019 09:11:31|      110|            0.6|0.5537749999999892|\n",
      "|03/05/2019 09:16:31|      110|           0.45|0.5537749999999892|\n",
      "|03/05/2019 09:21:31|      110|           0.65|0.5537749999999892|\n",
      "|03/05/2019 09:26:31|      110|           0.45|0.5537749999999892|\n",
      "|03/05/2019 09:31:31|      110|           0.67|0.5537749999999892|\n",
      "|03/05/2019 09:36:31|      110|            0.5|0.5537749999999892|\n",
      "|03/05/2019 09:41:31|      110|           0.53|0.5537749999999892|\n",
      "+-------------------+---------+---------------+------------------+\n",
      "only showing top 20 rows\n",
      "\n"
     ]
    },
    {
     "name": "stderr",
     "output_type": "stream",
     "text": [
      "                                                                                \r"
     ]
    }
   ],
   "source": [
    "spark.sql('SELECT event_datetime, server_id, cpu_utilization, avg(cpu_utilization) \\\n",
    "                    OVER (PARTITION BY server_id) avg_server_util \\\n",
    "                    FROM utilization').show()"
   ]
  },
  {
   "cell_type": "code",
   "execution_count": 11,
   "id": "a732c974-57c7-45f5-8404-f27a0f88099a",
   "metadata": {},
   "outputs": [
    {
     "data": {
      "text/plain": [
       "DataFrame[event_datetime: string, server_id: bigint, cpu_utilization: double, avg_server_util: double]"
      ]
     },
     "execution_count": 11,
     "metadata": {},
     "output_type": "execute_result"
    }
   ],
   "source": [
    "spark.sql('SELECT event_datetime, server_id, cpu_utilization, avg(cpu_utilization) \\\n",
    "                    OVER (PARTITION BY server_id) avg_server_util \\\n",
    "                    FROM utilization')"
   ]
  },
  {
   "cell_type": "code",
   "execution_count": 12,
   "id": "06afc1f5-b64a-42a1-99c4-03fbf4016865",
   "metadata": {},
   "outputs": [],
   "source": [
    "sql_window = spark.sql('SELECT event_datetime, server_id, cpu_utilization, avg(cpu_utilization) \\\n",
    "                    OVER (PARTITION BY server_id) avg_server_util \\\n",
    "                    FROM utilization')"
   ]
  },
  {
   "cell_type": "code",
   "execution_count": 13,
   "id": "089c3c0b-b33a-4646-a03a-c825fc5b887b",
   "metadata": {},
   "outputs": [
    {
     "name": "stdout",
     "output_type": "stream",
     "text": [
      "+-------------------+---------+---------------+------------------+\n",
      "|     event_datetime|server_id|cpu_utilization|   avg_server_util|\n",
      "+-------------------+---------+---------------+------------------+\n",
      "|03/05/2019 08:06:31|      110|           0.68|0.5537749999999892|\n",
      "|03/05/2019 08:11:31|      110|           0.58|0.5537749999999892|\n",
      "|03/05/2019 08:16:31|      110|           0.55|0.5537749999999892|\n",
      "|03/05/2019 08:21:31|      110|           0.63|0.5537749999999892|\n",
      "|03/05/2019 08:26:31|      110|           0.63|0.5537749999999892|\n",
      "|03/05/2019 08:31:31|      110|           0.71|0.5537749999999892|\n",
      "|03/05/2019 08:36:31|      110|           0.67|0.5537749999999892|\n",
      "|03/05/2019 08:41:31|      110|           0.55|0.5537749999999892|\n",
      "|03/05/2019 08:46:31|      110|           0.37|0.5537749999999892|\n",
      "|03/05/2019 08:51:31|      110|            0.7|0.5537749999999892|\n",
      "|03/05/2019 08:56:31|      110|           0.67|0.5537749999999892|\n",
      "|03/05/2019 09:01:31|      110|           0.56|0.5537749999999892|\n",
      "|03/05/2019 09:06:31|      110|           0.37|0.5537749999999892|\n",
      "|03/05/2019 09:11:31|      110|            0.6|0.5537749999999892|\n",
      "|03/05/2019 09:16:31|      110|           0.45|0.5537749999999892|\n",
      "|03/05/2019 09:21:31|      110|           0.65|0.5537749999999892|\n",
      "|03/05/2019 09:26:31|      110|           0.45|0.5537749999999892|\n",
      "|03/05/2019 09:31:31|      110|           0.67|0.5537749999999892|\n",
      "|03/05/2019 09:36:31|      110|            0.5|0.5537749999999892|\n",
      "|03/05/2019 09:41:31|      110|           0.53|0.5537749999999892|\n",
      "+-------------------+---------+---------------+------------------+\n",
      "only showing top 20 rows\n",
      "\n"
     ]
    },
    {
     "name": "stderr",
     "output_type": "stream",
     "text": [
      "                                                                                \r"
     ]
    }
   ],
   "source": [
    "sql_window.show()"
   ]
  },
  {
   "cell_type": "code",
   "execution_count": 14,
   "id": "9dcdae08-bc8d-4ce5-8186-54961d193d48",
   "metadata": {},
   "outputs": [],
   "source": [
    "sql_window2 = spark.sql('SELECT event_datetime, server_id, cpu_utilization, avg(cpu_utilization) \\\n",
    "                    OVER (PARTITION BY server_id) avg_server_util, cpu_utilization - avg(cpu_utilization) OVER (PARTITION BY server_id)delta_server_util \\\n",
    "                    FROM utilization')"
   ]
  },
  {
   "cell_type": "code",
   "execution_count": 15,
   "id": "0c682273-84b5-4faa-b7db-4bddf27fe2dc",
   "metadata": {},
   "outputs": [
    {
     "name": "stderr",
     "output_type": "stream",
     "text": [
      "[Stage 14:====================================>                     (5 + 3) / 8]\r"
     ]
    },
    {
     "name": "stdout",
     "output_type": "stream",
     "text": [
      "+-------------------+---------+---------------+------------------+--------------------+\n",
      "|     event_datetime|server_id|cpu_utilization|   avg_server_util|   delta_server_util|\n",
      "+-------------------+---------+---------------+------------------+--------------------+\n",
      "|03/05/2019 08:06:31|      110|           0.68|0.5537749999999892|  0.1262250000000108|\n",
      "|03/05/2019 08:11:31|      110|           0.58|0.5537749999999892|0.026225000000010712|\n",
      "|03/05/2019 08:16:31|      110|           0.55|0.5537749999999892|-0.00377499999998...|\n",
      "|03/05/2019 08:21:31|      110|           0.63|0.5537749999999892| 0.07622500000001076|\n",
      "|03/05/2019 08:26:31|      110|           0.63|0.5537749999999892| 0.07622500000001076|\n",
      "|03/05/2019 08:31:31|      110|           0.71|0.5537749999999892| 0.15622500000001072|\n",
      "|03/05/2019 08:36:31|      110|           0.67|0.5537749999999892| 0.11622500000001079|\n",
      "|03/05/2019 08:41:31|      110|           0.55|0.5537749999999892|-0.00377499999998...|\n",
      "|03/05/2019 08:46:31|      110|           0.37|0.5537749999999892|-0.18377499999998925|\n",
      "|03/05/2019 08:51:31|      110|            0.7|0.5537749999999892|  0.1462250000000107|\n",
      "|03/05/2019 08:56:31|      110|           0.67|0.5537749999999892| 0.11622500000001079|\n",
      "|03/05/2019 09:01:31|      110|           0.56|0.5537749999999892|0.006225000000010805|\n",
      "|03/05/2019 09:06:31|      110|           0.37|0.5537749999999892|-0.18377499999998925|\n",
      "|03/05/2019 09:11:31|      110|            0.6|0.5537749999999892| 0.04622500000001073|\n",
      "|03/05/2019 09:16:31|      110|           0.45|0.5537749999999892|-0.10377499999998924|\n",
      "|03/05/2019 09:21:31|      110|           0.65|0.5537749999999892| 0.09622500000001077|\n",
      "|03/05/2019 09:26:31|      110|           0.45|0.5537749999999892|-0.10377499999998924|\n",
      "|03/05/2019 09:31:31|      110|           0.67|0.5537749999999892| 0.11622500000001079|\n",
      "|03/05/2019 09:36:31|      110|            0.5|0.5537749999999892|-0.05377499999998925|\n",
      "|03/05/2019 09:41:31|      110|           0.53|0.5537749999999892|-0.02377499999998922|\n",
      "+-------------------+---------+---------------+------------------+--------------------+\n",
      "only showing top 20 rows\n",
      "\n"
     ]
    },
    {
     "name": "stderr",
     "output_type": "stream",
     "text": [
      "                                                                                \r"
     ]
    }
   ],
   "source": [
    "sql_window2.show()"
   ]
  },
  {
   "cell_type": "code",
   "execution_count": 17,
   "id": "eba3c785-dc47-4ae2-a12e-5ac5a9f2c67d",
   "metadata": {},
   "outputs": [],
   "source": [
    "sql_window3 = spark.sql('SELECT event_datetime, server_id, cpu_utilization, \\\n",
    "                avg(cpu_utilization) OVER (PARTITION BY server_id ORDER BY event_datetime \\\n",
    "                        ROWS BETWEEN 1 PRECEDING AND 1 FOLLOWING) avg_server_util \\\n",
    "                FROM utilization')"
   ]
  },
  {
   "cell_type": "code",
   "execution_count": 18,
   "id": "8ecbd4cc-eec6-4809-b1d4-83a5b1c07640",
   "metadata": {},
   "outputs": [
    {
     "name": "stdout",
     "output_type": "stream",
     "text": [
      "+-------------------+---------+---------------+-------------------+\n",
      "|     event_datetime|server_id|cpu_utilization|    avg_server_util|\n",
      "+-------------------+---------+---------------+-------------------+\n",
      "|03/05/2019 08:06:31|      110|           0.68|               0.63|\n",
      "|03/05/2019 08:11:31|      110|           0.58| 0.6033333333333334|\n",
      "|03/05/2019 08:16:31|      110|           0.55| 0.5866666666666666|\n",
      "|03/05/2019 08:21:31|      110|           0.63| 0.6033333333333334|\n",
      "|03/05/2019 08:26:31|      110|           0.63| 0.6566666666666666|\n",
      "|03/05/2019 08:31:31|      110|           0.71| 0.6699999999999999|\n",
      "|03/05/2019 08:36:31|      110|           0.67| 0.6433333333333333|\n",
      "|03/05/2019 08:41:31|      110|           0.55| 0.5300000000000001|\n",
      "|03/05/2019 08:46:31|      110|           0.37|               0.54|\n",
      "|03/05/2019 08:51:31|      110|            0.7|               0.58|\n",
      "|03/05/2019 08:56:31|      110|           0.67| 0.6433333333333334|\n",
      "|03/05/2019 09:01:31|      110|           0.56| 0.5333333333333333|\n",
      "|03/05/2019 09:06:31|      110|           0.37|               0.51|\n",
      "|03/05/2019 09:11:31|      110|            0.6|0.47333333333333333|\n",
      "|03/05/2019 09:16:31|      110|           0.45| 0.5666666666666668|\n",
      "|03/05/2019 09:21:31|      110|           0.65| 0.5166666666666667|\n",
      "|03/05/2019 09:26:31|      110|           0.45|               0.59|\n",
      "|03/05/2019 09:31:31|      110|           0.67|               0.54|\n",
      "|03/05/2019 09:36:31|      110|            0.5| 0.5666666666666667|\n",
      "|03/05/2019 09:41:31|      110|           0.53| 0.5133333333333333|\n",
      "+-------------------+---------+---------------+-------------------+\n",
      "only showing top 20 rows\n",
      "\n"
     ]
    }
   ],
   "source": [
    "sql_window3.show()"
   ]
  },
  {
   "cell_type": "code",
   "execution_count": null,
   "id": "c2c1e4fc-ce38-4901-986f-b4321c419fe7",
   "metadata": {},
   "outputs": [],
   "source": []
  }
 ],
 "metadata": {
  "kernelspec": {
   "display_name": "Python 3 (ipykernel)",
   "language": "python",
   "name": "python3"
  },
  "language_info": {
   "codemirror_mode": {
    "name": "ipython",
    "version": 3
   },
   "file_extension": ".py",
   "mimetype": "text/x-python",
   "name": "python",
   "nbconvert_exporter": "python",
   "pygments_lexer": "ipython3",
   "version": "3.10.12"
  }
 },
 "nbformat": 4,
 "nbformat_minor": 5
}
