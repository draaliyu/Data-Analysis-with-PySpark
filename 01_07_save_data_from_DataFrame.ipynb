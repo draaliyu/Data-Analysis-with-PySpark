{
 "cells": [
  {
   "cell_type": "code",
   "execution_count": 1,
   "id": "342e38eb-c737-4e36-87f6-bbcaa54e5531",
   "metadata": {},
   "outputs": [],
   "source": [
    "from pyspark.sql import SparkSession"
   ]
  },
  {
   "cell_type": "code",
   "execution_count": 2,
   "id": "ec17f805-8965-4f00-a3d6-e715adbe1f5c",
   "metadata": {},
   "outputs": [
    {
     "name": "stderr",
     "output_type": "stream",
     "text": [
      "24/05/05 22:20:14 WARN Utils: Your hostname, aliyu-XPS-15-9550 resolves to a loopback address: 127.0.1.1; using 192.168.0.47 instead (on interface wlp2s0)\n",
      "24/05/05 22:20:14 WARN Utils: Set SPARK_LOCAL_IP if you need to bind to another address\n",
      "Setting default log level to \"WARN\".\n",
      "To adjust logging level use sc.setLogLevel(newLevel). For SparkR, use setLogLevel(newLevel).\n",
      "24/05/05 22:20:15 WARN NativeCodeLoader: Unable to load native-hadoop library for your platform... using builtin-java classes where applicable\n",
      "24/05/05 22:20:16 WARN Utils: Service 'SparkUI' could not bind on port 4040. Attempting port 4041.\n"
     ]
    }
   ],
   "source": [
    "spark = SparkSession.builder.getOrCreate()"
   ]
  },
  {
   "cell_type": "code",
   "execution_count": 3,
   "id": "4499d267-965a-46df-b787-b466cbedb52c",
   "metadata": {},
   "outputs": [
    {
     "name": "stderr",
     "output_type": "stream",
     "text": [
      "                                                                                \r"
     ]
    }
   ],
   "source": [
    "data_path = './Data/'\n",
    "file_path = data_path + 'location_temp.csv'\n",
    "df1 = spark.read.format('csv').option('header','true').load(file_path)"
   ]
  },
  {
   "cell_type": "code",
   "execution_count": 4,
   "id": "4efccf6f-91fe-4e44-819b-c07a309564ae",
   "metadata": {},
   "outputs": [
    {
     "name": "stdout",
     "output_type": "stream",
     "text": [
      "+-------------------+-----------+------------+\n",
      "|         event_date|location_id|temp_celcius|\n",
      "+-------------------+-----------+------------+\n",
      "|03/04/2019 19:48:06|       loc0|          29|\n",
      "|03/04/2019 19:53:06|       loc0|          27|\n",
      "|03/04/2019 19:58:06|       loc0|          28|\n",
      "|03/04/2019 20:03:06|       loc0|          30|\n",
      "|03/04/2019 20:08:06|       loc0|          27|\n",
      "|03/04/2019 20:13:06|       loc0|          27|\n",
      "|03/04/2019 20:18:06|       loc0|          27|\n",
      "|03/04/2019 20:23:06|       loc0|          29|\n",
      "|03/04/2019 20:28:06|       loc0|          32|\n",
      "|03/04/2019 20:33:06|       loc0|          35|\n",
      "+-------------------+-----------+------------+\n",
      "only showing top 10 rows\n",
      "\n"
     ]
    }
   ],
   "source": [
    "df1.show(10)"
   ]
  },
  {
   "cell_type": "code",
   "execution_count": 5,
   "id": "5f887eed-08a2-4df4-85ae-eb7fa1b0b2db",
   "metadata": {},
   "outputs": [
    {
     "name": "stderr",
     "output_type": "stream",
     "text": [
      "                                                                                \r"
     ]
    }
   ],
   "source": [
    "df1.write.csv('df1.csv')"
   ]
  },
  {
   "cell_type": "code",
   "execution_count": 6,
   "id": "d2dde9db-2439-4be0-85d2-3b9dde82927d",
   "metadata": {},
   "outputs": [
    {
     "name": "stdout",
     "output_type": "stream",
     "text": [
      "part-00000-858ff5f6-674f-4e0c-9e16-b3757b766f8c-c000.csv\n",
      "part-00001-858ff5f6-674f-4e0c-9e16-b3757b766f8c-c000.csv\n",
      "part-00002-858ff5f6-674f-4e0c-9e16-b3757b766f8c-c000.csv\n",
      "part-00003-858ff5f6-674f-4e0c-9e16-b3757b766f8c-c000.csv\n",
      "_SUCCESS\n"
     ]
    }
   ],
   "source": [
    "!ls df1.csv"
   ]
  },
  {
   "cell_type": "code",
   "execution_count": 8,
   "id": "7fdedbed-03ea-4be0-ba5c-f606bd4b711d",
   "metadata": {},
   "outputs": [
    {
     "name": "stdout",
     "output_type": "stream",
     "text": [
      "03/04/2019 19:48:06,loc0,29\n",
      "03/04/2019 19:53:06,loc0,27\n",
      "03/04/2019 19:58:06,loc0,28\n",
      "03/04/2019 20:03:06,loc0,30\n",
      "03/04/2019 20:08:06,loc0,27\n",
      "03/04/2019 20:13:06,loc0,27\n",
      "03/04/2019 20:18:06,loc0,27\n",
      "03/04/2019 20:23:06,loc0,29\n",
      "03/04/2019 20:28:06,loc0,32\n",
      "03/04/2019 20:33:06,loc0,35\n"
     ]
    }
   ],
   "source": [
    "! head df1.csv/part-00000-858ff5f6-674f-4e0c-9e16-b3757b766f8c-c000.csv"
   ]
  },
  {
   "cell_type": "code",
   "execution_count": 9,
   "id": "28892b5e-cbbe-4853-8fdb-28372a313a5d",
   "metadata": {},
   "outputs": [
    {
     "name": "stderr",
     "output_type": "stream",
     "text": [
      "                                                                                \r"
     ]
    }
   ],
   "source": [
    "df1.write.json('df1.json')"
   ]
  },
  {
   "cell_type": "code",
   "execution_count": 10,
   "id": "11c21e10-5a03-4dd7-9a14-22c220eec1d1",
   "metadata": {},
   "outputs": [
    {
     "name": "stdout",
     "output_type": "stream",
     "text": [
      "part-00000-c6e5805e-8417-46d2-b7c8-33c5cd52cfeb-c000.json\n",
      "part-00001-c6e5805e-8417-46d2-b7c8-33c5cd52cfeb-c000.json\n",
      "part-00002-c6e5805e-8417-46d2-b7c8-33c5cd52cfeb-c000.json\n",
      "part-00003-c6e5805e-8417-46d2-b7c8-33c5cd52cfeb-c000.json\n",
      "_SUCCESS\n"
     ]
    }
   ],
   "source": [
    "! ls df1.json"
   ]
  },
  {
   "cell_type": "code",
   "execution_count": 11,
   "id": "b47e786a-fe6a-4df5-a9e1-4e668b6b2b3b",
   "metadata": {},
   "outputs": [
    {
     "name": "stdout",
     "output_type": "stream",
     "text": [
      "{\"event_date\":\"03/04/2019 19:48:06\",\"location_id\":\"loc0\",\"temp_celcius\":\"29\"}\n",
      "{\"event_date\":\"03/04/2019 19:53:06\",\"location_id\":\"loc0\",\"temp_celcius\":\"27\"}\n",
      "{\"event_date\":\"03/04/2019 19:58:06\",\"location_id\":\"loc0\",\"temp_celcius\":\"28\"}\n",
      "{\"event_date\":\"03/04/2019 20:03:06\",\"location_id\":\"loc0\",\"temp_celcius\":\"30\"}\n",
      "{\"event_date\":\"03/04/2019 20:08:06\",\"location_id\":\"loc0\",\"temp_celcius\":\"27\"}\n",
      "{\"event_date\":\"03/04/2019 20:13:06\",\"location_id\":\"loc0\",\"temp_celcius\":\"27\"}\n",
      "{\"event_date\":\"03/04/2019 20:18:06\",\"location_id\":\"loc0\",\"temp_celcius\":\"27\"}\n",
      "{\"event_date\":\"03/04/2019 20:23:06\",\"location_id\":\"loc0\",\"temp_celcius\":\"29\"}\n",
      "{\"event_date\":\"03/04/2019 20:28:06\",\"location_id\":\"loc0\",\"temp_celcius\":\"32\"}\n",
      "{\"event_date\":\"03/04/2019 20:33:06\",\"location_id\":\"loc0\",\"temp_celcius\":\"35\"}\n"
     ]
    }
   ],
   "source": [
    "! head df1.json/part-00000-c6e5805e-8417-46d2-b7c8-33c5cd52cfeb-c000.json"
   ]
  },
  {
   "cell_type": "code",
   "execution_count": null,
   "id": "4d532a9f-e192-4c47-bfd4-d21e5e451fc1",
   "metadata": {},
   "outputs": [],
   "source": []
  }
 ],
 "metadata": {
  "kernelspec": {
   "display_name": "Python 3 (ipykernel)",
   "language": "python",
   "name": "python3"
  },
  "language_info": {
   "codemirror_mode": {
    "name": "ipython",
    "version": 3
   },
   "file_extension": ".py",
   "mimetype": "text/x-python",
   "name": "python",
   "nbconvert_exporter": "python",
   "pygments_lexer": "ipython3",
   "version": "3.10.12"
  }
 },
 "nbformat": 4,
 "nbformat_minor": 5
}
