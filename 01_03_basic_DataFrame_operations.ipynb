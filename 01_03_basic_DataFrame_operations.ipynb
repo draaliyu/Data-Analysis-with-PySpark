{
 "cells": [
  {
   "cell_type": "code",
   "execution_count": 1,
   "id": "342e38eb-c737-4e36-87f6-bbcaa54e5531",
   "metadata": {},
   "outputs": [],
   "source": [
    "from pyspark.sql import SparkSession"
   ]
  },
  {
   "cell_type": "code",
   "execution_count": 2,
   "id": "ec17f805-8965-4f00-a3d6-e715adbe1f5c",
   "metadata": {},
   "outputs": [
    {
     "name": "stderr",
     "output_type": "stream",
     "text": [
      "24/05/05 13:38:26 WARN Utils: Your hostname, aliyu-XPS-15-9550 resolves to a loopback address: 127.0.1.1; using 192.168.0.47 instead (on interface wlp2s0)\n",
      "24/05/05 13:38:26 WARN Utils: Set SPARK_LOCAL_IP if you need to bind to another address\n",
      "Setting default log level to \"WARN\".\n",
      "To adjust logging level use sc.setLogLevel(newLevel). For SparkR, use setLogLevel(newLevel).\n",
      "24/05/05 13:38:27 WARN NativeCodeLoader: Unable to load native-hadoop library for your platform... using builtin-java classes where applicable\n",
      "24/05/05 13:38:27 WARN Utils: Service 'SparkUI' could not bind on port 4040. Attempting port 4041.\n"
     ]
    }
   ],
   "source": [
    "spark = SparkSession.builder.getOrCreate()"
   ]
  },
  {
   "cell_type": "code",
   "execution_count": 6,
   "id": "4499d267-965a-46df-b787-b466cbedb52c",
   "metadata": {},
   "outputs": [
    {
     "name": "stderr",
     "output_type": "stream",
     "text": [
      "                                                                                \r"
     ]
    }
   ],
   "source": [
    "data_path = './Data/'\n",
    "json_df2_path = data_path + 'utilization.json'\n",
    "df2 = spark.read.format('json').load(json_df2_path)"
   ]
  },
  {
   "cell_type": "code",
   "execution_count": 7,
   "id": "de9ea9da-3888-4e0e-b66a-3a87d087ae50",
   "metadata": {},
   "outputs": [
    {
     "name": "stderr",
     "output_type": "stream",
     "text": [
      "                                                                                \r"
     ]
    },
    {
     "data": {
      "text/plain": [
       "500000"
      ]
     },
     "execution_count": 7,
     "metadata": {},
     "output_type": "execute_result"
    }
   ],
   "source": [
    "df2.count()"
   ]
  },
  {
   "cell_type": "code",
   "execution_count": 8,
   "id": "4efccf6f-91fe-4e44-819b-c07a309564ae",
   "metadata": {},
   "outputs": [
    {
     "name": "stdout",
     "output_type": "stream",
     "text": [
      "+---------------+-------------------+-----------+---------+-------------+\n",
      "|cpu_utilization|     event_datetime|free_memory|server_id|session_count|\n",
      "+---------------+-------------------+-----------+---------+-------------+\n",
      "|           0.57|03/05/2019 08:06:14|       0.51|      100|           47|\n",
      "|           0.47|03/05/2019 08:11:14|       0.62|      100|           43|\n",
      "|           0.56|03/05/2019 08:16:14|       0.57|      100|           62|\n",
      "|           0.57|03/05/2019 08:21:14|       0.56|      100|           50|\n",
      "|           0.35|03/05/2019 08:26:14|       0.46|      100|           43|\n",
      "|           0.41|03/05/2019 08:31:14|       0.58|      100|           48|\n",
      "|           0.57|03/05/2019 08:36:14|       0.35|      100|           58|\n",
      "|           0.41|03/05/2019 08:41:14|        0.4|      100|           58|\n",
      "|           0.53|03/05/2019 08:46:14|       0.35|      100|           62|\n",
      "|           0.51|03/05/2019 08:51:14|        0.6|      100|           45|\n",
      "+---------------+-------------------+-----------+---------+-------------+\n",
      "only showing top 10 rows\n",
      "\n"
     ]
    }
   ],
   "source": [
    "df2.show(10)"
   ]
  },
  {
   "cell_type": "code",
   "execution_count": 9,
   "id": "e40f1042-b89e-4966-b7ba-7f3c26222fb5",
   "metadata": {},
   "outputs": [
    {
     "data": {
      "text/plain": [
       "['cpu_utilization',\n",
       " 'event_datetime',\n",
       " 'free_memory',\n",
       " 'server_id',\n",
       " 'session_count']"
      ]
     },
     "execution_count": 9,
     "metadata": {},
     "output_type": "execute_result"
    }
   ],
   "source": [
    "df2.columns"
   ]
  },
  {
   "cell_type": "code",
   "execution_count": 10,
   "id": "8b701561-43a3-4f21-be6b-bdea77af3f9b",
   "metadata": {},
   "outputs": [],
   "source": [
    "df2_sample = df2.sample(False,fraction=0.1)\n"
   ]
  },
  {
   "cell_type": "code",
   "execution_count": 11,
   "id": "6cf7cdd5-e6b7-43ca-b579-b2971b9357ac",
   "metadata": {},
   "outputs": [
    {
     "name": "stdout",
     "output_type": "stream",
     "text": [
      "+---------------+-------------------+-----------+---------+-------------+\n",
      "|cpu_utilization|     event_datetime|free_memory|server_id|session_count|\n",
      "+---------------+-------------------+-----------+---------+-------------+\n",
      "|           0.57|03/05/2019 08:06:14|       0.51|      100|           47|\n",
      "|           0.66|03/05/2019 09:06:14|       0.72|      100|           57|\n",
      "|           0.56|03/05/2019 10:26:14|       0.69|      100|           44|\n",
      "|           0.55|03/05/2019 10:51:14|       0.42|      100|           60|\n",
      "|           0.44|03/05/2019 11:16:14|       0.47|      100|           43|\n",
      "|           0.52|03/05/2019 11:51:14|       0.68|      100|           41|\n",
      "|           0.56|03/05/2019 13:46:14|       0.42|      100|           49|\n",
      "|            0.6|03/05/2019 16:06:14|       0.45|      100|           62|\n",
      "|           0.64|03/05/2019 17:01:14|       0.37|      100|           55|\n",
      "|           0.35|03/05/2019 17:06:14|       0.66|      100|           44|\n",
      "|            0.4|03/05/2019 17:51:14|       0.51|      100|           53|\n",
      "|           0.57|03/05/2019 19:16:14|       0.45|      100|           47|\n",
      "|           0.63|03/05/2019 20:01:14|       0.52|      100|           69|\n",
      "|           0.32|03/05/2019 20:21:14|       0.41|      100|           66|\n",
      "|           0.37|03/05/2019 20:56:14|       0.71|      100|           52|\n",
      "|           0.29|03/05/2019 21:01:14|        0.5|      100|           58|\n",
      "|           0.31|03/05/2019 21:11:14|        0.6|      100|           62|\n",
      "|            0.4|03/05/2019 21:51:14|       0.57|      100|           40|\n",
      "|           0.65|03/05/2019 22:01:14|       0.44|      100|           67|\n",
      "|           0.55|03/05/2019 22:11:14|       0.57|      100|           43|\n",
      "+---------------+-------------------+-----------+---------+-------------+\n",
      "only showing top 20 rows\n",
      "\n"
     ]
    }
   ],
   "source": [
    "df2_sample.show()"
   ]
  },
  {
   "cell_type": "code",
   "execution_count": 12,
   "id": "4a781e7a-7640-4721-86e6-f7a32d7c5dea",
   "metadata": {},
   "outputs": [],
   "source": [
    "df2_sort = df2.sort('event_datetime')"
   ]
  },
  {
   "cell_type": "code",
   "execution_count": 13,
   "id": "acda7b90-24e9-456d-a5b5-c0b2b708aa17",
   "metadata": {},
   "outputs": [
    {
     "name": "stderr",
     "output_type": "stream",
     "text": [
      "[Stage 6:=======>                                                   (1 + 7) / 8]\r"
     ]
    },
    {
     "name": "stdout",
     "output_type": "stream",
     "text": [
      "+---------------+-------------------+-----------+---------+-------------+\n",
      "|cpu_utilization|     event_datetime|free_memory|server_id|session_count|\n",
      "+---------------+-------------------+-----------+---------+-------------+\n",
      "|           0.57|03/05/2019 08:06:14|       0.51|      100|           47|\n",
      "|           0.86|03/05/2019 08:06:16|       0.09|      101|           93|\n",
      "|           0.61|03/05/2019 08:06:17|       0.12|      102|           71|\n",
      "|           0.64|03/05/2019 08:06:19|       0.32|      103|           96|\n",
      "|           0.84|03/05/2019 08:06:21|       0.36|      104|           94|\n",
      "|           0.54|03/05/2019 08:06:23|       0.38|      105|           74|\n",
      "|            0.4|03/05/2019 08:06:24|       0.39|      106|           43|\n",
      "|           0.64|03/05/2019 08:06:26|       0.55|      107|           56|\n",
      "|           0.62|03/05/2019 08:06:28|       0.41|      108|           86|\n",
      "|            0.7|03/05/2019 08:06:29|       0.59|      109|           77|\n",
      "|           0.68|03/05/2019 08:06:31|       0.44|      110|           47|\n",
      "|           0.48|03/05/2019 08:06:33|       0.25|      111|           70|\n",
      "|           0.71|03/05/2019 08:06:34|       0.27|      112|           86|\n",
      "|           0.69|03/05/2019 08:06:36|       0.38|      113|           71|\n",
      "|           0.48|03/05/2019 08:06:38|       0.48|      114|           52|\n",
      "|           0.78|03/05/2019 08:06:40|       0.22|      115|           62|\n",
      "|            0.4|03/05/2019 08:06:41|       0.53|      116|           51|\n",
      "|           0.71|03/05/2019 08:06:43|       0.61|      117|           60|\n",
      "|           0.78|03/05/2019 08:06:45|       0.45|      118|           68|\n",
      "|           0.51|03/05/2019 08:06:46|       0.49|      119|           53|\n",
      "+---------------+-------------------+-----------+---------+-------------+\n",
      "only showing top 20 rows\n",
      "\n"
     ]
    },
    {
     "name": "stderr",
     "output_type": "stream",
     "text": [
      "                                                                                \r"
     ]
    }
   ],
   "source": [
    "df2_sort.show()"
   ]
  },
  {
   "cell_type": "code",
   "execution_count": null,
   "id": "7e517963-8609-4432-85f1-95d6c7224442",
   "metadata": {},
   "outputs": [],
   "source": []
  }
 ],
 "metadata": {
  "kernelspec": {
   "display_name": "Python 3 (ipykernel)",
   "language": "python",
   "name": "python3"
  },
  "language_info": {
   "codemirror_mode": {
    "name": "ipython",
    "version": 3
   },
   "file_extension": ".py",
   "mimetype": "text/x-python",
   "name": "python",
   "nbconvert_exporter": "python",
   "pygments_lexer": "ipython3",
   "version": "3.10.12"
  }
 },
 "nbformat": 4,
 "nbformat_minor": 5
}
