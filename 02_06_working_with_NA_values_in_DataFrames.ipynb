{
 "cells": [
  {
   "cell_type": "code",
   "execution_count": 1,
   "id": "c227a927-f5a5-4089-a538-1c413672507b",
   "metadata": {},
   "outputs": [],
   "source": [
    "from pyspark.sql import SparkSession, Row\n",
    "from pyspark import SparkContext\n",
    "from pyspark.sql.functions import lit\n",
    "from pyspark.sql.types import StringType"
   ]
  },
  {
   "cell_type": "code",
   "execution_count": 8,
   "id": "1a061ba7-4a8d-4ed8-a6eb-2831ae51fce4",
   "metadata": {},
   "outputs": [],
   "source": [
    "# Initialize SparkSession\n",
    "spark = SparkSession.builder.appName(\"NA values\").getOrCreate()\n",
    "sc = SparkContext.getOrCreate()"
   ]
  },
  {
   "cell_type": "code",
   "execution_count": 9,
   "id": "41ec7e19-fb44-4275-b581-f1a6369a2d48",
   "metadata": {},
   "outputs": [],
   "source": [
    "rdd = sc.parallelize([Row(server_name='101 server', cpu_utilization=85, session_count=80), \\\n",
    "                         Row(server_name='101 server', cpu_utilization=80, session_count=90), \\\n",
    "                         Row(server_name='102 server', cpu_utilization=85, session_count=40), \\\n",
    "                         Row(server_name='103 server', cpu_utilization=70, session_count=80), \\\n",
    "                         Row(server_name='104 server', cpu_utilization=60, session_count=80)])"
   ]
  },
  {
   "cell_type": "code",
   "execution_count": 11,
   "id": "bc7d8c33-7a5a-4d26-aba0-823519e94996",
   "metadata": {},
   "outputs": [],
   "source": [
    "# Convert RDD to DataFrame\n",
    "df = spark.createDataFrame(rdd)"
   ]
  },
  {
   "cell_type": "code",
   "execution_count": 12,
   "id": "dbcb7044-3023-4447-9111-5668091a220d",
   "metadata": {},
   "outputs": [
    {
     "name": "stdout",
     "output_type": "stream",
     "text": [
      "+-----------+---------------+-------------+\n",
      "|server_name|cpu_utilization|session_count|\n",
      "+-----------+---------------+-------------+\n",
      "| 101 server|             85|           80|\n",
      "| 101 server|             80|           90|\n",
      "| 102 server|             85|           40|\n",
      "| 103 server|             70|           80|\n",
      "| 104 server|             60|           80|\n",
      "+-----------+---------------+-------------+\n",
      "\n"
     ]
    }
   ],
   "source": [
    "df.show()"
   ]
  },
  {
   "cell_type": "code",
   "execution_count": 13,
   "id": "c939d699-53cf-4cdd-bd96-5a9b824ba4a0",
   "metadata": {},
   "outputs": [],
   "source": [
    "df_na = df.withColumn('na_col', lit(None).cast(StringType()))"
   ]
  },
  {
   "cell_type": "code",
   "execution_count": 14,
   "id": "7de07093-1149-43a5-bcb7-281661788124",
   "metadata": {},
   "outputs": [
    {
     "name": "stdout",
     "output_type": "stream",
     "text": [
      "+-----------+---------------+-------------+------+\n",
      "|server_name|cpu_utilization|session_count|na_col|\n",
      "+-----------+---------------+-------------+------+\n",
      "| 101 server|             85|           80|  NULL|\n",
      "| 101 server|             80|           90|  NULL|\n",
      "| 102 server|             85|           40|  NULL|\n",
      "| 103 server|             70|           80|  NULL|\n",
      "| 104 server|             60|           80|  NULL|\n",
      "+-----------+---------------+-------------+------+\n",
      "\n"
     ]
    }
   ],
   "source": [
    "df_na.show()"
   ]
  },
  {
   "cell_type": "code",
   "execution_count": 15,
   "id": "ffffe6f3-e46e-49c7-a180-a3b30bda6cb2",
   "metadata": {},
   "outputs": [
    {
     "name": "stdout",
     "output_type": "stream",
     "text": [
      "+-----------+---------------+-------------+------+\n",
      "|server_name|cpu_utilization|session_count|na_col|\n",
      "+-----------+---------------+-------------+------+\n",
      "| 101 server|             85|           80|     A|\n",
      "| 101 server|             80|           90|     A|\n",
      "| 102 server|             85|           40|     A|\n",
      "| 103 server|             70|           80|     A|\n",
      "| 104 server|             60|           80|     A|\n",
      "+-----------+---------------+-------------+------+\n",
      "\n"
     ]
    }
   ],
   "source": [
    "df_na.fillna('A').show()"
   ]
  },
  {
   "cell_type": "code",
   "execution_count": 16,
   "id": "ca62b6dc-18cc-47bc-bb46-a9ed186a4c45",
   "metadata": {},
   "outputs": [],
   "source": [
    "df2 = df_na.fillna('A').union(df_na)"
   ]
  },
  {
   "cell_type": "code",
   "execution_count": 17,
   "id": "dfe7a8b5-45e6-4459-b808-feec48a8bde8",
   "metadata": {},
   "outputs": [
    {
     "name": "stdout",
     "output_type": "stream",
     "text": [
      "+-----------+---------------+-------------+------+\n",
      "|server_name|cpu_utilization|session_count|na_col|\n",
      "+-----------+---------------+-------------+------+\n",
      "| 101 server|             85|           80|     A|\n",
      "| 101 server|             80|           90|     A|\n",
      "| 102 server|             85|           40|     A|\n",
      "| 103 server|             70|           80|     A|\n",
      "| 104 server|             60|           80|     A|\n",
      "| 101 server|             85|           80|  NULL|\n",
      "| 101 server|             80|           90|  NULL|\n",
      "| 102 server|             85|           40|  NULL|\n",
      "| 103 server|             70|           80|  NULL|\n",
      "| 104 server|             60|           80|  NULL|\n",
      "+-----------+---------------+-------------+------+\n",
      "\n"
     ]
    }
   ],
   "source": [
    "df2.show()"
   ]
  },
  {
   "cell_type": "code",
   "execution_count": 18,
   "id": "acb27f45-ee1f-4282-806a-036272836a17",
   "metadata": {},
   "outputs": [
    {
     "name": "stdout",
     "output_type": "stream",
     "text": [
      "+-----------+---------------+-------------+------+\n",
      "|server_name|cpu_utilization|session_count|na_col|\n",
      "+-----------+---------------+-------------+------+\n",
      "| 101 server|             85|           80|     A|\n",
      "| 101 server|             80|           90|     A|\n",
      "| 102 server|             85|           40|     A|\n",
      "| 103 server|             70|           80|     A|\n",
      "| 104 server|             60|           80|     A|\n",
      "+-----------+---------------+-------------+------+\n",
      "\n"
     ]
    }
   ],
   "source": [
    "df2.na.drop().show()"
   ]
  },
  {
   "cell_type": "code",
   "execution_count": 19,
   "id": "94f1d200-a212-4bae-84a9-c8fefc4f7b26",
   "metadata": {},
   "outputs": [],
   "source": [
    "df2.createOrReplaceTempView('na_table')"
   ]
  },
  {
   "cell_type": "code",
   "execution_count": 20,
   "id": "6ff0054d-1a3a-4c4b-93a0-51d2fec53e9e",
   "metadata": {},
   "outputs": [
    {
     "name": "stdout",
     "output_type": "stream",
     "text": [
      "+-----------+---------------+-------------+------+\n",
      "|server_name|cpu_utilization|session_count|na_col|\n",
      "+-----------+---------------+-------------+------+\n",
      "| 101 server|             85|           80|     A|\n",
      "| 101 server|             80|           90|     A|\n",
      "| 102 server|             85|           40|     A|\n",
      "| 103 server|             70|           80|     A|\n",
      "| 104 server|             60|           80|     A|\n",
      "| 101 server|             85|           80|  NULL|\n",
      "| 101 server|             80|           90|  NULL|\n",
      "| 102 server|             85|           40|  NULL|\n",
      "| 103 server|             70|           80|  NULL|\n",
      "| 104 server|             60|           80|  NULL|\n",
      "+-----------+---------------+-------------+------+\n",
      "\n"
     ]
    }
   ],
   "source": [
    "spark.sql('SELECT * FROM na_table').show()"
   ]
  },
  {
   "cell_type": "code",
   "execution_count": 22,
   "id": "343d3b8f-1030-44e3-be71-12baade4c11f",
   "metadata": {},
   "outputs": [
    {
     "name": "stdout",
     "output_type": "stream",
     "text": [
      "+-----------+---------------+-------------+------+\n",
      "|server_name|cpu_utilization|session_count|na_col|\n",
      "+-----------+---------------+-------------+------+\n",
      "| 101 server|             85|           80|  NULL|\n",
      "| 101 server|             80|           90|  NULL|\n",
      "| 102 server|             85|           40|  NULL|\n",
      "| 103 server|             70|           80|  NULL|\n",
      "| 104 server|             60|           80|  NULL|\n",
      "+-----------+---------------+-------------+------+\n",
      "\n"
     ]
    }
   ],
   "source": [
    "spark.sql('SELECT * FROM na_table WHERE na_col IS NULL').show()"
   ]
  },
  {
   "cell_type": "code",
   "execution_count": 23,
   "id": "ee0d4737-5b9b-47d6-b4f7-2ad9d0726114",
   "metadata": {},
   "outputs": [
    {
     "name": "stdout",
     "output_type": "stream",
     "text": [
      "+-----------+---------------+-------------+------+\n",
      "|server_name|cpu_utilization|session_count|na_col|\n",
      "+-----------+---------------+-------------+------+\n",
      "| 101 server|             85|           80|     A|\n",
      "| 101 server|             80|           90|     A|\n",
      "| 102 server|             85|           40|     A|\n",
      "| 103 server|             70|           80|     A|\n",
      "| 104 server|             60|           80|     A|\n",
      "+-----------+---------------+-------------+------+\n",
      "\n"
     ]
    }
   ],
   "source": [
    "spark.sql('SELECT * FROM na_table WHERE na_col IS NOT NULL').show()"
   ]
  },
  {
   "cell_type": "code",
   "execution_count": null,
   "id": "99473df5-b91b-4929-b945-785b26f63521",
   "metadata": {},
   "outputs": [],
   "source": []
  }
 ],
 "metadata": {
  "kernelspec": {
   "display_name": "Python 3 (ipykernel)",
   "language": "python",
   "name": "python3"
  },
  "language_info": {
   "codemirror_mode": {
    "name": "ipython",
    "version": 3
   },
   "file_extension": ".py",
   "mimetype": "text/x-python",
   "name": "python",
   "nbconvert_exporter": "python",
   "pygments_lexer": "ipython3",
   "version": "3.10.12"
  }
 },
 "nbformat": 4,
 "nbformat_minor": 5
}
