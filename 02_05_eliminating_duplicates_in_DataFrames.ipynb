{
 "cells": [
  {
   "cell_type": "code",
   "execution_count": 21,
   "id": "c227a927-f5a5-4089-a538-1c413672507b",
   "metadata": {},
   "outputs": [],
   "source": [
    "from pyspark.sql import SparkSession, Row\n",
    "from pyspark import SparkContext"
   ]
  },
  {
   "cell_type": "code",
   "execution_count": 22,
   "id": "1a061ba7-4a8d-4ed8-a6eb-2831ae51fce4",
   "metadata": {},
   "outputs": [],
   "source": [
    "sc = SparkContext.getOrCreate()"
   ]
  },
  {
   "cell_type": "code",
   "execution_count": 23,
   "id": "41ec7e19-fb44-4275-b581-f1a6369a2d48",
   "metadata": {},
   "outputs": [],
   "source": [
    "df_dup = sc.parallelize([Row(server_name='101 server', cpu_utilization=85, session_count=80), \\\n",
    "                         Row(server_name='101 server', cpu_utilization=80, session_count=90), \\\n",
    "                         Row(server_name='102 server', cpu_utilization=85, session_count=80), \\\n",
    "                         Row(server_name='102 server', cpu_utilization=85, session_count=80)]).toDF()"
   ]
  },
  {
   "cell_type": "code",
   "execution_count": 24,
   "id": "bc7d8c33-7a5a-4d26-aba0-823519e94996",
   "metadata": {},
   "outputs": [
    {
     "name": "stdout",
     "output_type": "stream",
     "text": [
      "+-----------+---------------+-------------+\n",
      "|server_name|cpu_utilization|session_count|\n",
      "+-----------+---------------+-------------+\n",
      "| 101 server|             85|           80|\n",
      "| 101 server|             80|           90|\n",
      "| 102 server|             85|           80|\n",
      "| 102 server|             85|           80|\n",
      "+-----------+---------------+-------------+\n",
      "\n"
     ]
    }
   ],
   "source": [
    "df_dup.show()"
   ]
  },
  {
   "cell_type": "code",
   "execution_count": 25,
   "id": "d5c17cd0-ec1f-4801-b889-84c238767844",
   "metadata": {},
   "outputs": [
    {
     "name": "stdout",
     "output_type": "stream",
     "text": [
      "+-----------+---------------+-------------+\n",
      "|server_name|cpu_utilization|session_count|\n",
      "+-----------+---------------+-------------+\n",
      "| 101 server|             85|           80|\n",
      "| 101 server|             80|           90|\n",
      "| 102 server|             85|           80|\n",
      "+-----------+---------------+-------------+\n",
      "\n"
     ]
    }
   ],
   "source": [
    "df_dup.drop_duplicates().show()"
   ]
  },
  {
   "cell_type": "code",
   "execution_count": 26,
   "id": "e77d5f8a-cca7-4558-be2e-d4b01e1149dc",
   "metadata": {},
   "outputs": [
    {
     "name": "stdout",
     "output_type": "stream",
     "text": [
      "+-----------+---------------+-------------+\n",
      "|server_name|cpu_utilization|session_count|\n",
      "+-----------+---------------+-------------+\n",
      "| 101 server|             85|           80|\n",
      "| 102 server|             85|           80|\n",
      "+-----------+---------------+-------------+\n",
      "\n"
     ]
    }
   ],
   "source": [
    "df_dup.drop_duplicates(['server_name']).show()"
   ]
  },
  {
   "cell_type": "code",
   "execution_count": null,
   "id": "dbcb7044-3023-4447-9111-5668091a220d",
   "metadata": {},
   "outputs": [],
   "source": []
  }
 ],
 "metadata": {
  "kernelspec": {
   "display_name": "Python 3 (ipykernel)",
   "language": "python",
   "name": "python3"
  },
  "language_info": {
   "codemirror_mode": {
    "name": "ipython",
    "version": 3
   },
   "file_extension": ".py",
   "mimetype": "text/x-python",
   "name": "python",
   "nbconvert_exporter": "python",
   "pygments_lexer": "ipython3",
   "version": "3.10.12"
  }
 },
 "nbformat": 4,
 "nbformat_minor": 5
}
